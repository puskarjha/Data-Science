{
 "cells": [
  {
   "cell_type": "markdown",
   "metadata": {},
   "source": [
    "# TASK 1.2 :"
   ]
  },
  {
   "cell_type": "code",
   "execution_count": 21,
   "metadata": {},
   "outputs": [
    {
     "name": "stdout",
     "output_type": "stream",
     "text": [
      "[2002, 2009, 2016, 2023, 2037, 2044, 2051, 2058, 2072, 2079, 2086, 2093, 2107, 2114, 2121, 2128, 2142, 2149, 2156, 2163, 2177, 2184, 2191, 2198, 2212, 2219, 2226, 2233, 2247, 2254, 2261, 2268, 2282, 2289, 2296, 2303, 2317, 2324, 2331, 2338, 2352, 2359, 2366, 2373, 2387, 2394, 2401, 2408, 2422, 2429, 2436, 2443, 2457, 2464, 2471, 2478, 2492, 2499, 2506, 2513, 2527, 2534, 2541, 2548, 2562, 2569, 2576, 2583, 2597, 2604, 2611, 2618, 2632, 2639, 2646, 2653, 2667, 2674, 2681, 2688, 2702, 2709, 2716, 2723, 2737, 2744, 2751, 2758, 2772, 2779, 2786, 2793, 2807, 2814, 2821, 2828, 2842, 2849, 2856, 2863, 2877, 2884, 2891, 2898, 2912, 2919, 2926, 2933, 2947, 2954, 2961, 2968, 2982, 2989, 2996]\n"
     ]
    }
   ],
   "source": [
    "# program to read numbers between 2000 and 3000 and list out all the numbers that are divisible by 7 \n",
    "# but not a multiple of 5.\n",
    "\n",
    "result3 = []\n",
    "\n",
    "# traverse through the numbers between 2000 and 3000 \n",
    "for i in range(2000,3001):\n",
    "    \n",
    "    # check if number is divisible by 7\n",
    "    if (i % 7 == 0):\n",
    "        \n",
    "        # check if number is not divisible by 5\n",
    "        if (i % 5 != 0):\n",
    "            \n",
    "            #output is a list\n",
    "            result3.append(i)\n",
    "print (result3)"
   ]
  },
  {
   "cell_type": "code",
   "execution_count": 18,
   "metadata": {},
   "outputs": [
    {
     "name": "stdout",
     "output_type": "stream",
     "text": [
      "2002,2009,2016,2023,2037,2044,2051,2058,2072,2079,2086,2093,2107,2114,2121,2128,2142,2149,2156,2163,2177,2184,2191,2198,2212,2219,2226,2233,2247,2254,2261,2268,2282,2289,2296,2303,2317,2324,2331,2338,2352,2359,2366,2373,2387,2394,2401,2408,2422,2429,2436,2443,2457,2464,2471,2478,2492,2499,2506,2513,2527,2534,2541,2548,2562,2569,2576,2583,2597,2604,2611,2618,2632,2639,2646,2653,2667,2674,2681,2688,2702,2709,2716,2723,2737,2744,2751,2758,2772,2779,2786,2793,2807,2814,2821,2828,2842,2849,2856,2863,2877,2884,2891,2898,2912,2919,2926,2933,2947,2954,2961,2968,2982,2989,2996,\n"
     ]
    }
   ],
   "source": [
    "# program to read numbers between 2000 and 3000 and list out all the numbers that are divisible by 7 \n",
    "# but not a multiple of 5.\n",
    "\n",
    "# declare an emplty string\n",
    "result1 = ''\n",
    "\n",
    "# traverse through 2000 till 3000\n",
    "for i in range(2000,3001):\n",
    "    \n",
    "    # check if number is divisible by 7\n",
    "    if (i % 7 == 0):\n",
    "        \n",
    "        # check if number is not divisible by 5\n",
    "        if (i % 5 != 0):\n",
    "            \n",
    "            #output is a string with each number separated by comma\n",
    "            result1 = result1 + str(i) + ','\n",
    "print (result1)"
   ]
  },
  {
   "cell_type": "markdown",
   "metadata": {},
   "source": [
    "# TASK 1.3"
   ]
  },
  {
   "cell_type": "code",
   "execution_count": 10,
   "metadata": {},
   "outputs": [
    {
     "name": "stdout",
     "output_type": "stream",
     "text": [
      "Enter your First Name Puskar\n",
      "Enter your Last Name Jha\n",
      "Reverse of the name is ahJ raksuP\n"
     ]
    }
   ],
   "source": [
    "# accept user first name and last name, print them in reverse order with a spcae between them \n",
    "\n",
    "first_name = input('Enter your First Name ')\n",
    "last_name = input ('Enter your Last Name ')\n",
    "\n",
    "var1 = ''\n",
    "var2 = ''\n",
    "\n",
    "for i in first_name [::-1]:\n",
    "    var1 = var1 + i\n",
    "    \n",
    "for j in last_name [::-1]:\n",
    "    var2 = var2 + j\n",
    "\n",
    "print('Reverse of the name is ' + var2 + ' ' + var1)"
   ]
  },
  {
   "cell_type": "markdown",
   "metadata": {},
   "source": [
    "# Task 1.4"
   ]
  },
  {
   "cell_type": "code",
   "execution_count": 11,
   "metadata": {},
   "outputs": [
    {
     "name": "stdout",
     "output_type": "stream",
     "text": [
      "Volume of the sphere is  904.3199999999999\n"
     ]
    }
   ],
   "source": [
    "#  volume of a sphere with a diameter of 12cm\n",
    "\n",
    "dia = 12\n",
    "rad = dia/2\n",
    "\n",
    "Volume = (4/3) * 3.14 * rad**3\n",
    "\n",
    "print ('Volume of the sphere is ', Volume)"
   ]
  },
  {
   "cell_type": "code",
   "execution_count": 23,
   "metadata": {},
   "outputs": [
    {
     "name": "stdout",
     "output_type": "stream",
     "text": [
      "Enter the radius of the sphere8\n",
      "Volume of the sphere is 2143.5733333333333\n"
     ]
    }
   ],
   "source": [
    "#volume of a sphere with user entered radius\n",
    "\n",
    "radius = int(input('Enter the radius of the sphere').strip())\n",
    "\n",
    "print ('Volume of the sphere is', (4/3) * 3.14 * radius**3)"
   ]
  },
  {
   "cell_type": "markdown",
   "metadata": {},
   "source": [
    "# TASK 2.1"
   ]
  },
  {
   "cell_type": "code",
   "execution_count": 16,
   "metadata": {},
   "outputs": [
    {
     "name": "stdout",
     "output_type": "stream",
     "text": [
      "Enter a sequence of numbers that is comma seperated 1,2,3,4,\n",
      "['1', '2', '3', '4']\n"
     ]
    }
   ],
   "source": [
    "#Program to accept comma separated numbers and generate list\n",
    "l=[]\n",
    "seq = input('Enter a sequence of numbers that is comma seperated ')\n",
    "for i in seq:\n",
    "    if i != ',':\n",
    "        l.append(i)\n",
    "\n",
    "print (l)"
   ]
  },
  {
   "cell_type": "markdown",
   "metadata": {},
   "source": [
    "# TASK 2.2"
   ]
  },
  {
   "cell_type": "code",
   "execution_count": 12,
   "metadata": {},
   "outputs": [
    {
     "name": "stdout",
     "output_type": "stream",
     "text": [
      "Enter maximum number of asterick required5\n",
      "\n",
      "*\n",
      "**\n",
      "***\n",
      "****\n",
      "*****\n",
      "****\n",
      "***\n",
      "**\n",
      "*\n"
     ]
    }
   ],
   "source": [
    "# Create patter using nested for loop\n",
    "\n",
    "inp = int(input('Enter maximum number of asterick required'))\n",
    "\n",
    "for i in range (inp+1):\n",
    "    print ('*' * i)\n",
    "for i in range (inp-1,0,-1):\n",
    "    print('*' * i)"
   ]
  },
  {
   "cell_type": "markdown",
   "metadata": {},
   "source": [
    "# TASK 2.3"
   ]
  },
  {
   "cell_type": "code",
   "execution_count": 19,
   "metadata": {},
   "outputs": [
    {
     "name": "stdout",
     "output_type": "stream",
     "text": [
      "Enter a word : Puskar\n",
      "Reverse of the word is :    raksuP\n"
     ]
    }
   ],
   "source": [
    "#Program to reverse the word\n",
    "\n",
    "word = input('Enter a word : ')\n",
    "reverse_word = ''\n",
    "for i in word[::-1]:\n",
    "    reverse_word += i\n",
    "    \n",
    "print('Reverse of the word is :   ', reverse_word )"
   ]
  },
  {
   "cell_type": "markdown",
   "metadata": {},
   "source": [
    "# TASK 2.4"
   ]
  },
  {
   "cell_type": "code",
   "execution_count": 12,
   "metadata": {},
   "outputs": [
    {
     "name": "stdout",
     "output_type": "stream",
     "text": [
      "WE, THE PEOPLE OF INDIA, \n",
      "\thaving solemnly resolved to constitute India into a SOVEREIGN, ! \n",
      "\t\tSOCIALIST, SECULAR, DEMOCRATIC REPUBLIC \n",
      "\t\t and to secure to all its citizens\n"
     ]
    }
   ],
   "source": [
    "#print sentence in a format\n",
    "\n",
    "print ('WE, THE PEOPLE OF INDIA, ''\\n\\t' 'having solemnly resolved to constitute India into a SOVEREIGN, ! ''\\n\\t\\t'  'SOCIALIST, SECULAR, DEMOCRATIC REPUBLIC ''\\n\\t\\t'' and to secure to all its citizens')"
   ]
  },
  {
   "cell_type": "code",
   "execution_count": null,
   "metadata": {},
   "outputs": [],
   "source": []
  }
 ],
 "metadata": {
  "kernelspec": {
   "display_name": "Python 3",
   "language": "python",
   "name": "python3"
  },
  "language_info": {
   "codemirror_mode": {
    "name": "ipython",
    "version": 3
   },
   "file_extension": ".py",
   "mimetype": "text/x-python",
   "name": "python",
   "nbconvert_exporter": "python",
   "pygments_lexer": "ipython3",
   "version": "3.6.5"
  }
 },
 "nbformat": 4,
 "nbformat_minor": 2
}
